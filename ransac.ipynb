{
 "cells": [
  {
   "cell_type": "code",
   "execution_count": 1,
   "metadata": {
    "collapsed": true
   },
   "outputs": [],
   "source": [
    "import cv2\n",
    "import numpy as np\n",
    "from matplotlib import pyplot as plt\n",
    "import itertools\n",
    "%matplotlib inline\n",
    "%load_ext autoreload\n",
    "%autoreload 2"
   ]
  },
  {
   "cell_type": "code",
   "execution_count": 2,
   "metadata": {
    "collapsed": true
   },
   "outputs": [],
   "source": [
    "_a = 0.5\n",
    "_b = 0.3"
   ]
  },
  {
   "cell_type": "code",
   "execution_count": 208,
   "metadata": {
    "collapsed": false
   },
   "outputs": [],
   "source": [
    "points = np.array([[x, _a * x + _b + .1 * np.random.randn() + (np.random.randint(100) == 0) * np.random.rand() * 10] for x in np.arange(0, 10, 0.01)])"
   ]
  },
  {
   "cell_type": "code",
   "execution_count": 209,
   "metadata": {
    "collapsed": false
   },
   "outputs": [
    {
     "data": {
      "text/plain": [
       "[<matplotlib.lines.Line2D at 0x10cb64990>]"
      ]
     },
     "execution_count": 209,
     "metadata": {},
     "output_type": "execute_result"
    },
    {
     "data": {
      "image/png": "[encoded data removed]",
      "text/plain": [
       "<matplotlib.figure.Figure at 0x10c197c10>"
      ]
     },
     "metadata": {},
     "output_type": "display_data"
    }
   ],
   "source": [
    "plt.plot(points[:, 0], points[:, 1])"
   ]
  },
  {
   "cell_type": "code",
   "execution_count": 210,
   "metadata": {
    "collapsed": false
   },
   "outputs": [],
   "source": [
    "data = points\n",
    "model = (0, 0)\n",
    "n = 2\n",
    "k = 1000\n",
    "t = 2\n",
    "d = 800\n",
    "iterations = 0\n"
   ]
  },
  {
   "cell_type": "code",
   "execution_count": null,
   "metadata": {
    "collapsed": false
   },
   "outputs": [],
   "source": [
    "def getParamWithSamples(samples):\n",
    "    p0 = samples[0]\n",
    "    p1 = samples[1]\n",
    "    dp = p1 - p0\n",
    "    a = dp[1] / dp[0]\n",
    "    b = p0[1] - a * p0[0]\n",
    "    return a, b\n",
    "    \n",
    "\n",
    "def getError(model, p):\n",
    "    a = model[0]\n",
    "    b = model[1]\n",
    "    x = p[0]\n",
    "    y = p[1]\n",
    "    return np.abs(a * x + b - y)\n",
    "\n",
    "bestfit = None\n",
    "besterr = float('inf')\n",
    "iterations = 0\n",
    "while iterations < k:\n",
    "    maybeinliers = data[np.random.choice(len(data), 2, False)]\n",
    "    maybemodel = getParamWithSamples(maybeinliers)\n",
    "    \n",
    "    alsoinliers = []\n",
    "    for p in data:\n",
    "        if (p == maybeinliers).any(): continue\n",
    "        if getError(maybemodel, p) > t: continue\n",
    "            \n",
    "        alsoinliers.append(p)\n",
    "        \n",
    "    \n",
    "    if len(alsoinliers) > d:\n",
    "        bettermodel = maybemodel\n",
    "        thiserror = np.array([getError(maybemodel, p) for p in data]).mean()\n",
    "        if thiserror < besterr:\n",
    "            bestfit = bettermodel\n",
    "            besterr = thiserror\n",
    "        \n",
    "    iterations += 1\n",
    "    \n",
    "print bestfit"
   ]
  },
  {
   "cell_type": "code",
   "execution_count": null,
   "metadata": {
    "collapsed": false
   },
   "outputs": [],
   "source": []
  },
  {
   "cell_type": "code",
   "execution_count": null,
   "metadata": {
    "collapsed": true
   },
   "outputs": [],
   "source": []
  },
  {
   "cell_type": "code",
   "execution_count": null,
   "metadata": {
    "collapsed": true
   },
   "outputs": [],
   "source": []
  }
 ],
 "metadata": {
  "kernelspec": {
   "display_name": "Python 2",
   "language": "python",
   "name": "python2"
  },
  "language_info": {
   "codemirror_mode": {
    "name": "ipython",
    "version": 2
   },
   "file_extension": ".py",
   "mimetype": "text/x-python",
   "name": "python",
   "nbconvert_exporter": "python",
   "pygments_lexer": "ipython2",
   "version": "2.7.9"
  }
 },
 "nbformat": 4,
 "nbformat_minor": 0
}
