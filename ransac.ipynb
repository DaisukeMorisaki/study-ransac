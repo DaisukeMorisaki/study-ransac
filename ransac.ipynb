{
 "cells": [
  {
   "cell_type": "code",
   "execution_count": 215,
   "metadata": {
    "collapsed": false
   },
   "outputs": [
    {
     "name": "stdout",
     "output_type": "stream",
     "text": [
      "The autoreload extension is already loaded. To reload it, use:\n",
      "  %reload_ext autoreload\n"
     ]
    }
   ],
   "source": [
    "import cv2\n",
    "import numpy as np\n",
    "from matplotlib import pyplot as plt\n",
    "import itertools\n",
    "%matplotlib inline\n",
    "%load_ext autoreload\n",
    "%autoreload 2"
   ]
  },
  {
   "cell_type": "code",
   "execution_count": 216,
   "metadata": {
    "collapsed": true
   },
   "outputs": [],
   "source": [
    "# true values\n",
    "_a = 0.5\n",
    "_b = 0.3"
   ]
  },
  {
   "cell_type": "code",
   "execution_count": 217,
   "metadata": {
    "collapsed": false
   },
   "outputs": [],
   "source": [
    "# samples\n",
    "points = np.array([[x, _a * x + _b + .1 * np.random.randn() + (np.random.randint(100) == 0) * np.random.rand() * 10] for x in np.arange(0, 10, 0.01)])"
   ]
  },
  {
   "cell_type": "code",
   "execution_count": 218,
   "metadata": {
    "collapsed": false
   },
   "outputs": [
    {
     "data": {
      "text/plain": [
       "[<matplotlib.lines.Line2D at 0x10cd8e7d0>]"
      ]
     },
     "execution_count": 218,
     "metadata": {},
     "output_type": "execute_result"
    },
    {
     "data": {
      "image/png": "[encoded data removed]",
      "text/plain": [
       "<matplotlib.figure.Figure at 0x10cbe00d0>"
      ]
     },
     "metadata": {},
     "output_type": "display_data"
    }
   ],
   "source": [
    "plt.plot(points[:, 0], points[:, 1])"
   ]
  },
  {
   "cell_type": "code",
   "execution_count": 213,
   "metadata": {
    "collapsed": false
   },
   "outputs": [],
   "source": [
    "data = points\n",
    "\n"
   ]
  },
  {
   "cell_type": "code",
   "execution_count": 236,
   "metadata": {
    "collapsed": false
   },
   "outputs": [],
   "source": [
    "def getParamWithSamples(samples):\n",
    "    p0 = samples[0]\n",
    "    p1 = samples[1]\n",
    "    dp = p1 - p0\n",
    "    a = dp[1] / dp[0]\n",
    "    b = p0[1] - a * p0[0]\n",
    "    return a, b\n",
    "    \n",
    "\n",
    "def getError(model, p):\n",
    "    a = model[0]\n",
    "    b = model[1]\n",
    "    x = p[0]\n",
    "    y = p[1]\n",
    "    return np.abs(a * x + b - y)\n",
    "\n",
    "def ransac(data,\n",
    "        # parameters for RANSAC\n",
    "        n = 2, # required sample num to decide parameter\n",
    "        k = 1000, # max loop num\n",
    "        t = 2.0, # threshold error val for inlier\n",
    "        d = 800 # requrired inlier sample num to be correnct model\n",
    "    ):\n",
    "\n",
    "    bestfit = None\n",
    "    besterr = float('inf')\n",
    "    iterations = 0\n",
    "    while iterations < k:\n",
    "        maybeinliers = data[np.random.choice(len(data), 2, False)]\n",
    "        maybemodel = getParamWithSamples(maybeinliers)\n",
    "\n",
    "        alsoinliers = []\n",
    "        for p in data:\n",
    "            if (p == maybeinliers).any(): continue\n",
    "            if getError(maybemodel, p) > t: continue\n",
    "\n",
    "            alsoinliers.append(p)\n",
    "\n",
    "\n",
    "        if len(alsoinliers) > d:\n",
    "            bettermodel = maybemodel\n",
    "            thiserror = np.array([getError(maybemodel, p) for p in data]).mean()\n",
    "            if thiserror < besterr:\n",
    "                bestfit = bettermodel\n",
    "                besterr = thiserror\n",
    "\n",
    "\n",
    "        iterations += 1\n",
    "\n",
    "    return bestfit\n",
    "\n",
    "def leastSquare(data):\n",
    "    bestfit = None\n",
    "    besterr = float('inf')\n",
    "    for a in np.arange(0, 1, 0.01):\n",
    "        print a\n",
    "        for b in np.arange(0, 1, 0.01):\n",
    "            sumerr = 0\n",
    "            for p in data:\n",
    "                error = getError((a, b), p) ** 2\n",
    "                sumerr += error\n",
    "            if sumerr < besterr:\n",
    "                besterr = sumerr\n",
    "                bestfit = (a, b)\n",
    "    return bestfit\n",
    "                \n",
    "            \n",
    "    "
   ]
  },
  {
   "cell_type": "code",
   "execution_count": 237,
   "metadata": {
    "collapsed": false
   },
   "outputs": [
    {
     "name": "stdout",
     "output_type": "stream",
     "text": [
      "0.0\n",
      "0.01\n",
      "0.02\n",
      "0.03\n",
      "0.04\n",
      "0.05\n",
      "0.06\n",
      "0.07\n",
      "0.08\n",
      "0.09\n",
      "0.1\n",
      "0.11\n",
      "0.12\n",
      "0.13\n",
      "0.14\n",
      "0.15\n",
      "0.16\n",
      "0.17\n",
      "0.18\n",
      "0.19\n",
      "0.2\n",
      "0.21\n",
      "0.22\n",
      "0.23\n",
      "0.24\n",
      "0.25\n",
      "0.26\n",
      "0.27\n",
      "0.28\n",
      "0.29\n",
      "0.3\n",
      "0.31\n",
      "0.32\n",
      "0.33\n",
      "0.34\n",
      "0.35\n",
      "0.36\n",
      "0.37\n",
      "0.38\n",
      "0.39\n",
      "0.4\n",
      "0.41\n",
      "0.42\n",
      "0.43\n",
      "0.44\n",
      "0.45\n",
      "0.46\n",
      "0.47\n",
      "0.48\n",
      "0.49\n",
      "0.5\n",
      "0.51\n",
      "0.52\n",
      "0.53\n",
      "0.54\n",
      "0.55\n",
      "0.56\n",
      "0.57\n",
      "0.58\n",
      "0.59\n",
      "0.6\n",
      "0.61\n",
      "0.62\n",
      "0.63\n",
      "0.64\n",
      "0.65\n",
      "0.66\n",
      "0.67\n",
      "0.68\n",
      "0.69\n",
      "0.7\n",
      "0.71\n",
      "0.72\n",
      "0.73\n",
      "0.74\n",
      "0.75\n",
      "0.76\n",
      "0.77\n",
      "0.78\n",
      "0.79\n",
      "0.8\n",
      "0.81\n",
      "0.82\n",
      "0.83\n",
      "0.84\n",
      "0.85\n",
      "0.86\n",
      "0.87\n",
      "0.88\n",
      "0.89\n",
      "0.9\n",
      "0.91\n",
      "0.92\n",
      "0.93\n",
      "0.94\n",
      "0.95\n",
      "0.96\n",
      "0.97\n",
      "0.98\n",
      "0.99\n"
     ]
    },
    {
     "data": {
      "text/plain": [
       "(0.5, 0.35000000000000003)"
      ]
     },
     "execution_count": 237,
     "metadata": {},
     "output_type": "execute_result"
    }
   ],
   "source": [
    "leastSquare(data)"
   ]
  },
  {
   "cell_type": "code",
   "execution_count": null,
   "metadata": {
    "collapsed": true
   },
   "outputs": [],
   "source": []
  },
  {
   "cell_type": "code",
   "execution_count": null,
   "metadata": {
    "collapsed": true
   },
   "outputs": [],
   "source": []
  }
 ],
 "metadata": {
  "kernelspec": {
   "display_name": "Python 2",
   "language": "python",
   "name": "python2"
  },
  "language_info": {
   "codemirror_mode": {
    "name": "ipython",
    "version": 2
   },
   "file_extension": ".py",
   "mimetype": "text/x-python",
   "name": "python",
   "nbconvert_exporter": "python",
   "pygments_lexer": "ipython2",
   "version": "2.7.9"
  }
 },
 "nbformat": 4,
 "nbformat_minor": 0
}
