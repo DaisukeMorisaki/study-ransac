{
 "cells": [
  {
   "cell_type": "code",
   "execution_count": 92,
   "metadata": {
    "collapsed": false
   },
   "outputs": [
    {
     "name": "stdout",
     "output_type": "stream",
     "text": [
      "The autoreload extension is already loaded. To reload it, use:\n",
      "  %reload_ext autoreload\n"
     ]
    }
   ],
   "source": [
    "import cv2\n",
    "import numpy as np\n",
    "from matplotlib import pyplot as plt\n",
    "import itertools\n",
    "%matplotlib inline\n",
    "%load_ext autoreload\n",
    "%autoreload 2"
   ]
  },
  {
   "cell_type": "code",
   "execution_count": 93,
   "metadata": {
    "collapsed": true
   },
   "outputs": [],
   "source": [
    "# true values\n",
    "_a = 0.5\n",
    "_b = 0.3"
   ]
  },
  {
   "cell_type": "code",
   "execution_count": 100,
   "metadata": {
    "collapsed": false
   },
   "outputs": [],
   "source": [
    "# samples\n",
    "points = np.array([[x, _a * x + _b + .1 * np.random.randn() + (np.random.randint(100) == 0) * np.random.rand() * 1000] for x in np.arange(0, 10, 0.01)])"
   ]
  },
  {
   "cell_type": "code",
   "execution_count": 101,
   "metadata": {
    "collapsed": false,
    "scrolled": true
   },
   "outputs": [
    {
     "data": {
      "text/plain": [
       "(0, 10)"
      ]
     },
     "execution_count": 101,
     "metadata": {},
     "output_type": "execute_result"
    },
    {
     "data": {
      "image/png": "[encoded data removed]",
      "text/plain": [
       "<matplotlib.figure.Figure at 0x112dcc410>"
      ]
     },
     "metadata": {},
     "output_type": "display_data"
    }
   ],
   "source": [
    "plt.plot(points[:, 0], points[:, 1])\n",
    "plt.ylim(0, 10)"
   ]
  },
  {
   "cell_type": "code",
   "execution_count": 102,
   "metadata": {
    "collapsed": false
   },
   "outputs": [],
   "source": [
    "data = points\n",
    "\n"
   ]
  },
  {
   "cell_type": "code",
   "execution_count": 126,
   "metadata": {
    "collapsed": false
   },
   "outputs": [],
   "source": [
    "def getParamWithSamples(samples):\n",
    "    p0 = samples[0]\n",
    "    p1 = samples[1]\n",
    "    dp = p1 - p0\n",
    "    a = dp[1] / dp[0]\n",
    "    b = p0[1] - a * p0[0]\n",
    "    return a, b\n",
    "    \n",
    "def applyModel(model, x):\n",
    "    a = model[0]\n",
    "    b = model[1]\n",
    "    return a * x + b\n",
    "   \n",
    "\n",
    "def getError(model, p):\n",
    "    x = p[0]\n",
    "    y = p[1]\n",
    "    return np.abs(applyModel(model, x) - y)\n",
    "\n",
    "def errorGrad(model, data):\n",
    "    a = model[0]\n",
    "    b = model[1]\n",
    "    x = data[:, 0]\n",
    "    y = data[:, 1]\n",
    "    ga = (2 * (a * x + b - y) * x).sum()\n",
    "    gb = (2 * (a * x + b - y)).sum()\n",
    "    return np.array([ga, gb])\n",
    "\n",
    "\n",
    "import numpy as np\n",
    "\n",
    "\n",
    "def ransac(data,\n",
    "        # parameters for RANSAC\n",
    "        n = 2, # required sample num to decide parameter\n",
    "        k = 100, # max loop num\n",
    "        t = 2.0, # threshold error val for inlier\n",
    "        d = 800 # requrired inlier sample num to be correnct param\n",
    "    ):\n",
    "\n",
    "    good_models = []\n",
    "    good_model_errors = []\n",
    "    iterations = 0\n",
    "    while iterations < k:\n",
    "        sample = data[np.random.choice(len(data), 2, False)]\n",
    "        param = getParamWithSamples(sample)\n",
    "\n",
    "        inliers = []\n",
    "        for p in data:\n",
    "            if (p == sample).all(1).any(): continue\n",
    "            if getError(param, p) > t:\n",
    "                continue\n",
    "            else:\n",
    "                inliers.append(p)\n",
    "\n",
    "\n",
    "        if len(inliers) > d:\n",
    "            current_error = np.array([getError(param, p) for p in data]).mean()\n",
    "            good_models.append(param)\n",
    "            good_model_errors.append(current_error)\n",
    "\n",
    "        iterations += 1\n",
    "        \n",
    "    best_index = np.argmin(good_model_errors)\n",
    "    return good_models[best_index]\n",
    "\n",
    "def leastSquare(data):\n",
    "    # Simulated Annealing\n",
    "    tau = 100\n",
    "    bestfit = None\n",
    "    besterr = float('inf')\n",
    "    model = np.zeros(2)\n",
    "    while tau >= 0.0001:\n",
    "        for _ in range(10):\n",
    "            grad = errorGrad(model, data)\n",
    "            grad /= np.linalg.norm(grad)\n",
    "            grad *= -1\n",
    "            model += grad * tau\n",
    "            \n",
    "        tau *= 0.1\n",
    "    return model\n",
    "                "
   ]
  },
  {
   "cell_type": "code",
   "execution_count": 127,
   "metadata": {
    "collapsed": false
   },
   "outputs": [
    {
     "name": "stdout",
     "output_type": "stream",
     "text": [
      "0.496228888599 0.299107809476\n"
     ]
    }
   ],
   "source": [
    "a, b = ransac(data)\n",
    "print a, b"
   ]
  },
  {
   "cell_type": "code",
   "execution_count": 121,
   "metadata": {
    "collapsed": false
   },
   "outputs": [
    {
     "data": {
      "text/plain": [
       "(0, 10)"
      ]
     },
     "execution_count": 121,
     "metadata": {},
     "output_type": "execute_result"
    },
    {
     "data": {
      "image/png": "[encoded data removed]",
      "text/plain": [
       "<matplotlib.figure.Figure at 0x1128fef10>"
      ]
     },
     "metadata": {},
     "output_type": "display_data"
    }
   ],
   "source": [
    "plt.plot(data[:, 0], data[:, 1])\n",
    "l = np.array([(x, applyModel((a, b), x)) for x in data[:, 0]])\n",
    "plt.plot(l[:, 0], l[:, 1])\n",
    "l = np.array([(x, applyModel((_a, _b), x)) for x in data[:, 0]])\n",
    "plt.plot(l[:, 0], l[:, 1])\n",
    "plt.ylim(0, 10)\n"
   ]
  },
  {
   "cell_type": "code",
   "execution_count": null,
   "metadata": {
    "collapsed": true
   },
   "outputs": [],
   "source": []
  },
  {
   "cell_type": "code",
   "execution_count": null,
   "metadata": {
    "collapsed": true
   },
   "outputs": [],
   "source": []
  },
  {
   "cell_type": "code",
   "execution_count": null,
   "metadata": {
    "collapsed": true
   },
   "outputs": [],
   "source": []
  },
  {
   "cell_type": "code",
   "execution_count": null,
   "metadata": {
    "collapsed": true
   },
   "outputs": [],
   "source": []
  }
 ],
 "metadata": {
  "kernelspec": {
   "display_name": "Python 2",
   "language": "python",
   "name": "python2"
  },
  "language_info": {
   "codemirror_mode": {
    "name": "ipython",
    "version": 2
   },
   "file_extension": ".py",
   "mimetype": "text/x-python",
   "name": "python",
   "nbconvert_exporter": "python",
   "pygments_lexer": "ipython2",
   "version": "2.7.9"
  }
 },
 "nbformat": 4,
 "nbformat_minor": 0
}
