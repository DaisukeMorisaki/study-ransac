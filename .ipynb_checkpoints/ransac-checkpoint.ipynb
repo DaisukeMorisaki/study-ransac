{
 "cells": [
  {
   "cell_type": "code",
   "execution_count": 8,
   "metadata": {
    "collapsed": false
   },
   "outputs": [
    {
     "name": "stdout",
     "output_type": "stream",
     "text": [
      "The autoreload extension is already loaded. To reload it, use:\n",
      "  %reload_ext autoreload\n"
     ]
    }
   ],
   "source": [
    "import cv2\n",
    "import numpy as np\n",
    "from matplotlib import pyplot as plt\n",
    "import itertools\n",
    "%matplotlib inline\n",
    "%load_ext autoreload\n",
    "%autoreload 2"
   ]
  },
  {
   "cell_type": "code",
   "execution_count": 9,
   "metadata": {
    "collapsed": true
   },
   "outputs": [],
   "source": [
    "# true values\n",
    "_a = 0.5\n",
    "_b = 0.3"
   ]
  },
  {
   "cell_type": "code",
   "execution_count": 43,
   "metadata": {
    "collapsed": false
   },
   "outputs": [],
   "source": [
    "# samples\n",
    "points = np.array([[x, _a * x + _b + .1 * np.random.randn() + (np.random.randint(100) == 0) * np.random.rand() * 1000] for x in np.arange(0, 10, 0.01)])"
   ]
  },
  {
   "cell_type": "code",
   "execution_count": 44,
   "metadata": {
    "collapsed": false
   },
   "outputs": [
    {
     "data": {
      "text/plain": [
       "(0, 10)"
      ]
     },
     "execution_count": 44,
     "metadata": {},
     "output_type": "execute_result"
    },
    {
     "data": {
      "image/png": "[encoded data removed]",
      "text/plain": [
       "<matplotlib.figure.Figure at 0x11291ccd0>"
      ]
     },
     "metadata": {},
     "output_type": "display_data"
    }
   ],
   "source": [
    "plt.plot(points[:, 0], points[:, 1])\n",
    "plt.ylim(0, 10)"
   ]
  },
  {
   "cell_type": "code",
   "execution_count": 45,
   "metadata": {
    "collapsed": false
   },
   "outputs": [],
   "source": [
    "data = points\n",
    "\n"
   ]
  },
  {
   "cell_type": "code",
   "execution_count": 57,
   "metadata": {
    "collapsed": false
   },
   "outputs": [],
   "source": [
    "def getParamWithSamples(samples):\n",
    "    p0 = samples[0]\n",
    "    p1 = samples[1]\n",
    "    dp = p1 - p0\n",
    "    a = dp[1] / dp[0]\n",
    "    b = p0[1] - a * p0[0]\n",
    "    return a, b\n",
    "    \n",
    "def applyModel(model, x):\n",
    "    a = model[0]\n",
    "    b = model[1]\n",
    "    return a * x + b\n",
    "   \n",
    "\n",
    "def getError(model, p):\n",
    "    x = p[0]\n",
    "    y = p[1]\n",
    "    return np.abs(applyModel(model, x) - y)\n",
    "\n",
    "def errorGrad(model, data):\n",
    "    a = model[0]\n",
    "    b = model[1]\n",
    "    x = data[:, 0]\n",
    "    y = data[:, 1]\n",
    "    ga = (2 * (a * x + b - y) * x).sum()\n",
    "    gb = (2 * (a * x + b - y)).sum()\n",
    "    return ga, gb\n",
    "\n",
    "\n",
    "def ransac(data,\n",
    "        # parameters for RANSAC\n",
    "        n = 2, # required sample num to decide parameter\n",
    "        k = 1000, # max loop num\n",
    "        t = 2.0, # threshold error val for inlier\n",
    "        d = 800 # requrired inlier sample num to be correnct model\n",
    "    ):\n",
    "\n",
    "    bestfit = None\n",
    "    besterr = float('inf')\n",
    "    iterations = 0\n",
    "    while iterations < k:\n",
    "        maybeinliers = data[np.random.choice(len(data), 2, False)]\n",
    "        maybemodel = getParamWithSamples(maybeinliers)\n",
    "\n",
    "        alsoinliers = []\n",
    "        for p in data:\n",
    "            if (p == maybeinliers).any(): continue\n",
    "            if getError(maybemodel, p) > t: continue\n",
    "\n",
    "            alsoinliers.append(p)\n",
    "\n",
    "\n",
    "        if len(alsoinliers) > d:\n",
    "            bettermodel = maybemodel\n",
    "            thiserror = np.array([getError(maybemodel, p) for p in data]).mean()\n",
    "            if thiserror < besterr:\n",
    "                bestfit = bettermodel\n",
    "                besterr = thiserror\n",
    "\n",
    "\n",
    "        iterations += 1\n",
    "\n",
    "    return bestfit\n",
    "\n",
    "def leastSquare(data):\n",
    "    bestfit = None\n",
    "    besterr = float('inf')\n",
    "    for step in [1000, 100, 10, 1, 0.1, 0.01]\n",
    "        for a in np.arange(0, 1, 0.01):\n",
    "            for b in np.arange(0, 1, 0.01):\n",
    "                sumerr = 0\n",
    "                for p in data:\n",
    "                    error = getError((a, b), p) ** 2\n",
    "                    sumerr += error\n",
    "                if sumerr < besterr:\n",
    "                    besterr = sumerr\n",
    "                    bestfit = (a, b)\n",
    "    return bestfit\n",
    "                \n",
    "            \n",
    "    "
   ]
  },
  {
   "cell_type": "code",
   "execution_count": 55,
   "metadata": {
    "collapsed": false
   },
   "outputs": [
    {
     "name": "stdout",
     "output_type": "stream",
     "text": [
      "0.502865694952 0.283935284212\n"
     ]
    }
   ],
   "source": [
    "a, b = ransac(data)\n",
    "print a, b"
   ]
  },
  {
   "cell_type": "code",
   "execution_count": 56,
   "metadata": {
    "collapsed": false
   },
   "outputs": [
    {
     "data": {
      "text/plain": [
       "(0, 10)"
      ]
     },
     "execution_count": 56,
     "metadata": {},
     "output_type": "execute_result"
    },
    {
     "data": {
      "image/png": "[encoded data removed]",
      "text/plain": [
       "<matplotlib.figure.Figure at 0x1127d3510>"
      ]
     },
     "metadata": {},
     "output_type": "display_data"
    }
   ],
   "source": [
    "plt.plot(data[:, 0], data[:, 1])\n",
    "l = np.array([(x, applyModel((a, b), x)) for x in data[:, 0]])\n",
    "plt.plot(l[:, 0], l[:, 1])\n",
    "l = np.array([(x, applyModel((_a, _b), x)) for x in data[:, 0]])\n",
    "plt.plot(l[:, 0], l[:, 1])\n",
    "\n",
    "plt.ylim(0, 10)"
   ]
  },
  {
   "cell_type": "code",
   "execution_count": null,
   "metadata": {
    "collapsed": true
   },
   "outputs": [],
   "source": []
  },
  {
   "cell_type": "code",
   "execution_count": null,
   "metadata": {
    "collapsed": true
   },
   "outputs": [],
   "source": []
  },
  {
   "cell_type": "code",
   "execution_count": null,
   "metadata": {
    "collapsed": true
   },
   "outputs": [],
   "source": []
  },
  {
   "cell_type": "code",
   "execution_count": null,
   "metadata": {
    "collapsed": true
   },
   "outputs": [],
   "source": []
  }
 ],
 "metadata": {
  "kernelspec": {
   "display_name": "Python 2",
   "language": "python",
   "name": "python2"
  },
  "language_info": {
   "codemirror_mode": {
    "name": "ipython",
    "version": 2
   },
   "file_extension": ".py",
   "mimetype": "text/x-python",
   "name": "python",
   "nbconvert_exporter": "python",
   "pygments_lexer": "ipython2",
   "version": "2.7.9"
  }
 },
 "nbformat": 4,
 "nbformat_minor": 0
}
